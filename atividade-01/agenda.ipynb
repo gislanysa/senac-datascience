{
  "nbformat": 4,
  "nbformat_minor": 0,
  "metadata": {
    "colab": {
      "provenance": [],
      "authorship_tag": "ABX9TyP+Ubx6aq4Hyj2JtntdD7CH",
      "include_colab_link": true
    },
    "kernelspec": {
      "name": "python3",
      "display_name": "Python 3"
    },
    "language_info": {
      "name": "python"
    }
  },
  "cells": [
    {
      "cell_type": "markdown",
      "metadata": {
        "id": "view-in-github",
        "colab_type": "text"
      },
      "source": [
        "<a href=\"https://colab.research.google.com/github/gislanysa/datascience/blob/main/agenda.ipynb\" target=\"_parent\"><img src=\"https://colab.research.google.com/assets/colab-badge.svg\" alt=\"Open In Colab\"/></a>"
      ]
    },
    {
      "cell_type": "code",
      "source": [
        "agenda = []\n",
        "\n",
        "def cadastrar_contato():\n",
        "    print(\"Cadastro de novo contato\")\n",
        "    nome = input(\"Digite o nome do contato: \")\n",
        "    telefone = input(\"Digite o telefone do seu contato: \")\n",
        "    email = input(\"Digite o email do seu contato: \")\n",
        "    contato = {\"nome\": nome, \"telefone\": telefone, \"email\": email}\n",
        "    agenda.append(contato)\n",
        "    print(\"O contato foi cadastrado com sucesso!\")\n",
        "\n",
        "def listar_contatos():\n",
        "  if len(agenda) == 0:\n",
        "    print (\"Sua agenda está vazia\")\n",
        "  else:\n",
        "    for i, contato in enumerate(agenda, 1):\n",
        "      print(f\"{i} Nome: {contato['nome']}\")\n",
        "      print(f\"Telefone: {contato['telefone']}\")\n",
        "      print(f\"Email: {contato['email']}\")\n",
        "\n",
        "def atualizar_contato():\n",
        "  nome_procurado = input(\"Digite o nome do contato que você deseja atualizar: \")\n",
        "  contato_encontrado = None\n",
        "\n",
        "  for contato in agenda:\n",
        "    if contato ['nome'] == nome_procurado:\n",
        "      contato_encontrado = contato\n",
        "      break\n",
        "\n",
        "  if contato_encontrado:\n",
        "    print(f\"\\nO que deseja alterar no contato'{contato_encontrado['nome']}'?\")\n",
        "    print(\"1. Alterar o nome\")\n",
        "    print(\"2. Alterar o telefone\")\n",
        "    print(\"3. Alterar o email\")\n",
        "\n",
        "    escolha_campo = input(\"Digite o número da sua escolha: \")\n",
        "\n",
        "    if escolha_campo == '1':\n",
        "      novo_nome = input(\"Digite o novo nome: \")\n",
        "      contato_encontrado['nome'] = novo_nome\n",
        "      print(\"Nome alterado com sucesso!\")\n",
        "    elif escolha_campo == '2':\n",
        "      novo_telefone = input(\"Digite o novo telefone: \")\n",
        "      contato_encontrado['telefone'] = novo_telefone\n",
        "      print(\"Telefone alterado com sucesso!\")\n",
        "    elif escolha_campo == '3':\n",
        "      novo_email = input(\"Digite o novo email: \")\n",
        "      contato_encontrado['email'] = novo_email\n",
        "      print(\"Email alterado com sucesso!\")\n",
        "    else:\n",
        "      print(\"Opção inválida, selecione um número entre 1-3\")\n",
        "  else:\n",
        "    print(\"Contao não localizado\")\n",
        "\n",
        "def excluir_contato():\n",
        "  nome_procurado = input(\"Digite o nome do contato que deseja excluir: \")\n",
        "\n",
        "  contato_encontrado = None\n",
        "  for contato in agenda:\n",
        "    if contato['nome'] == nome_procurado:\n",
        "      contato_encontrado = contato\n",
        "      break\n",
        "  if contato_encontrado:\n",
        "    agenda.remove(contato_encontrado)\n",
        "    print(f\"Contato '{nome_procurado}' foi excluido com sucesso!\")\n",
        "  else:\n",
        "    print(\"Contato não localizado\")\n",
        "\n",
        "def exibir_menu():\n",
        "    while True:\n",
        "      print (\"\\n Menu de Agenda\")\n",
        "      print (\"1. Cadastrar contato\")\n",
        "      print (\"2. Listar constatos\")\n",
        "      print (\"3. Atualizar contatos\")\n",
        "      print (\"4. Excluir contato\")\n",
        "      print (\"5. Sair\")\n",
        "\n",
        "      escolha = input(\"Digite o número da opção desejada: \")\n",
        "\n",
        "      if escolha == \"1\":\n",
        "          cadastrar_contato()\n",
        "      elif escolha == \"2\":\n",
        "          listar_contatos()\n",
        "      elif escolha == \"3\":\n",
        "          atualizar_contato()\n",
        "      elif escolha == \"4\":\n",
        "          excluir_contato()\n",
        "      elif escolha == \"5\":\n",
        "          print (\"Saindo\")\n",
        "          break\n",
        "      else:\n",
        "          print (\"Opção inválida, selecione um número entre 1-5\")\n",
        "\n",
        "print(\"Agenda de Contato\")\n",
        "exibir_menu()"
      ],
      "metadata": {
        "id": "JDHJmtS-PFD3"
      },
      "execution_count": null,
      "outputs": []
    },
    {
      "cell_type": "code",
      "source": [],
      "metadata": {
        "id": "8JJlY4yLoOf4"
      },
      "execution_count": null,
      "outputs": []
    }
  ]
}
